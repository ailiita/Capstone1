{
 "cells": [
  {
   "cell_type": "code",
   "execution_count": 1,
   "id": "e0a71507-c118-4c0a-bb98-182f8f7929de",
   "metadata": {},
   "outputs": [],
   "source": [
    "import requests"
   ]
  },
  {
   "cell_type": "code",
   "execution_count": 2,
   "id": "cf1dae39-343f-466b-9120-cf70b6c87173",
   "metadata": {},
   "outputs": [],
   "source": [
    "url = 'http://localhost:8686/predict'"
   ]
  },
  {
   "cell_type": "code",
   "execution_count": 3,
   "id": "4b154ea5-f587-4e4c-acf2-695be46465d0",
   "metadata": {},
   "outputs": [],
   "source": [
    "data = {\"monsoonintensity\": 7.0, \"topographydrainage\": 2.0, \n",
    "        \"rivermanagement\": 5.0, \"climatechange\": 7.0, \n",
    "        \"encroachments\": 9.0, \"coastalvulnerability\": 7.0, \n",
    "        \"landslides\": 8.0, \"populationscore\": 3.0, \"wetlandloss\": 8.0, \n",
    "        \"human_activities\": 7.0, \"societal_vulnerability\": 1.6,\n",
    "        \"water_infrastructure\": 11.3}"
   ]
  },
  {
   "cell_type": "code",
   "execution_count": 4,
   "id": "d39e0238-ed2f-4928-a06f-87535b452897",
   "metadata": {},
   "outputs": [
    {
     "name": "stdout",
     "output_type": "stream",
     "text": [
      "{'Flood_Risk': 'High Risk', 'Predicted Flood Risk Probability': 0.6425838576412135}\n"
     ]
    }
   ],
   "source": [
    "response = requests.post(url, json=data).json()\n",
    "print(response)\n"
   ]
  }
 ],
 "metadata": {
  "kernelspec": {
   "display_name": "Python 3 (ipykernel)",
   "language": "python",
   "name": "python3"
  },
  "language_info": {
   "codemirror_mode": {
    "name": "ipython",
    "version": 3
   },
   "file_extension": ".py",
   "mimetype": "text/x-python",
   "name": "python",
   "nbconvert_exporter": "python",
   "pygments_lexer": "ipython3",
   "version": "3.11.10"
  }
 },
 "nbformat": 4,
 "nbformat_minor": 5
}
